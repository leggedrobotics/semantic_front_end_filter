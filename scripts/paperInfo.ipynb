{
 "cells": [
  {
   "cell_type": "markdown",
   "id": "531b94e6",
   "metadata": {},
   "source": [
    "## Info about dataset"
   ]
  },
  {
   "cell_type": "code",
   "execution_count": null,
   "id": "540aad8b",
   "metadata": {},
   "outputs": [],
   "source": [
    "from semantic_front_end_filter.adabins.dataloader import DepthDataLoader\n",
    "from simple_parsing import ArgumentParser\n",
    "from semantic_front_end_filter.adabins.cfgUtils import parse_args\n"
   ]
  },
  {
   "cell_type": "code",
   "execution_count": null,
   "id": "17b2bdc4",
   "metadata": {},
   "outputs": [],
   "source": [
    "parser = ArgumentParser()\n",
    "args = parse_args(parser, argstr = \"\")\n",
    "args.distributed = False\n",
    "# args.data_path = \"/media/chenyu/T7/Data/extract_trajectories_005_augment/\"\n",
    "# args.data_path = \"/media/chenyu/Semantic/Data/extract_trajectories_Italy_augment/\"\n",
    "args.data_path = \"/media/chenyu/Semantic/Data/extract_trajectories_Zurich_augment/extract_trajectories\"\n",
    "train_loader = DepthDataLoader(args, 'train').data\n",
    "test_loader = DepthDataLoader(args, 'online_eval').data"
   ]
  },
  {
   "cell_type": "code",
   "execution_count": null,
   "id": "8bb4dc9c",
   "metadata": {},
   "outputs": [],
   "source": [
    "print(\"sizes\")\n",
    "print(\"train\", len(train_loader.dataset), \"test\", len(test_loader.dataset))"
   ]
  },
  {
   "cell_type": "code",
   "execution_count": null,
   "id": "cff0c2cf",
   "metadata": {},
   "outputs": [],
   "source": [
    "data_iter = iter(test_loader)\n"
   ]
  },
  {
   "cell_type": "code",
   "execution_count": null,
   "id": "94f61e77",
   "metadata": {},
   "outputs": [],
   "source": [
    "sample = next(data_iter)"
   ]
  },
  {
   "cell_type": "code",
   "execution_count": null,
   "id": "09d46959",
   "metadata": {},
   "outputs": [],
   "source": [
    "import matplotlib.pyplot as plt\n",
    "import numpy as np\n",
    "import cv2\n",
    "print(sample[\"image\"].shape)\n",
    "img = sample[\"image\"][0][:3]\n",
    "img = ((img-img.min())/(img.max()-img.min())).numpy()\n",
    "img = img[::-1,...]\n",
    "img = np.moveaxis(img,0,2)\n",
    "plt.imshow(img)\n",
    "plt.axis(\"off\")"
   ]
  },
  {
   "cell_type": "markdown",
   "id": "af2de006",
   "metadata": {},
   "source": [
    "```bash\n",
    "rosbag info $(find -name \"*\")\n",
    "```\n",
    "\n",
    "**The duration for SA** \n",
    "- Reconstruct_2022-04-23-21-02-46_0.bag: 10min\n",
    "- Reconstruct_2022-04-24-18-35-59_0: 10min\n",
    "- Reconstruct_2022-04-25-13-10-30_0: 600s\n",
    "- Reconstruct_2022-04-25-13-31-10_0: 540s\n",
    "- Reconstruct_2022-04-25-13-50-15_0: 205s\n",
    "- Reconstruct_2022-04-25-13-57-28_0: 394s\n",
    "- Reconstruct_2022-04-25-14-23-14_0: 178s\n",
    "- Reconstruct_2022-04-25-14-32-23_0: 600s\n",
    "- Reconstruct_2022-04-25-15-31-34_0: 600s\n",
    "- Reconstruct_2022-04-25-18-46-27_0: 286s\n",
    "- Reconstruct_2022-04-25-19-10-16_0: 211s\n",
    "- Reconstruct_2022-04-25-19-40-45_0: 270s\n",
    "- Reconstruct_2022-04-25-20-17-39_0: 507s\n",
    "- Reconstruct_2022-04-26-16-34-01_0: 548s\n",
    "- Reconstruct_2022-04-26-17-05-24_0: 600s\n",
    "- Reconstruct_2022-04-26-17-35-27_0: 600s\n",
    "- WithPointCloudReconstruct_2022-03-26-22-28-54_0: 5min"
   ]
  },
  {
   "cell_type": "markdown",
   "id": "a09a0d21",
   "metadata": {},
   "source": [
    "The duration for Italy\n",
    "- Reconstruct_2022-07-18-20-34-01_0: 471s\n",
    "- Reconstruct_2022-07-19-18-43-46_0: 329s\n",
    "- Reconstruct_2022-07-19-20-46-08_0: 854s\n",
    "- Reconstruct_2022-07-19-13-56-27_0: 534s\n",
    "- Reconstruct_2022-07-19-19-02-15_0: 630s\n",
    "- Reconstruct_2022-07-21-10-47-29_0: 556s\n",
    "- Reconstruct_2022-07-19-18-16-39_0: 525s\n",
    "- Reconstruct_2022-07-19-20-06-22_0: 900s\n",
    "- Reconstruct_2022-07-22-10-36-29_0: 543s"
   ]
  },
  {
   "cell_type": "markdown",
   "id": "9a5ee7bb",
   "metadata": {},
   "source": [
    "The duration for Zurich\n",
    "- Reconstruct_2022-08-13-08-48-50_0: 338s\n",
    "- Reconstruct_2022-08-13-10-08-26_0: 351s\n",
    "- Reconstruct_2022-08-13-16-48-24_0: 682s\n",
    "- Reconstruct_2022-08-13-20-39-56_0: 156s\n",
    "- Reconstruct_2022-08-13-21-01-10_0: 267s"
   ]
  },
  {
   "cell_type": "code",
   "execution_count": null,
   "id": "f04ae72c",
   "metadata": {},
   "outputs": [],
   "source": [
    "t_sa = [600, 600, 600, 540, 205, 394, 178, 600, 600, 286, 211, 270, 507, 548, 600, 600, 300]\n",
    "print(len(t_sa))\n",
    "print(\"time for SA dataset\", sum(t_sa)//60,\"min\", sum(t_sa)%60 )\n",
    "\n",
    "t_italy = [471, 329, 854, 534, 630, 556, 525, 900, 543]\n",
    "print(\"time for italy dataset\", sum(t_italy)//60,\"min\", sum(t_italy)%60 )\n",
    "\n",
    "t_zurich = [338, 351, 682, 156, 267]\n",
    "print(\"time for Zurich dataset\", sum(t_zurich)//60,\"min\", sum(t_zurich)%60 )\n"
   ]
  }
 ],
 "metadata": {
  "kernelspec": {
   "display_name": "Python 3 (ipykernel)",
   "language": "python",
   "name": "python3"
  },
  "language_info": {
   "codemirror_mode": {
    "name": "ipython",
    "version": 3
   },
   "file_extension": ".py",
   "mimetype": "text/x-python",
   "name": "python",
   "nbconvert_exporter": "python",
   "pygments_lexer": "ipython3",
   "version": "3.9.12"
  }
 },
 "nbformat": 4,
 "nbformat_minor": 5
}
